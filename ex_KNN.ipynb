{
 "cells": [
  {
   "cell_type": "markdown",
   "metadata": {},
   "source": [
    "[물꼬기]"
   ]
  },
  {
   "cell_type": "markdown",
   "metadata": {},
   "source": [
    "[개발 주제: 길이에 따른 생선 무게 예측 모델]  \n",
    "- 데이터셋: fish.csv  \n",
    "  \n",
    "  \n",
    "- 피쳐/특성/데이터: 길이  \n",
    "- 타겟/정답/레이블: 무게  \n",
    "  \n",
    "\n",
    "- 학습종류: 지도학습-회귀  \n",
    "- 알고리즘: 데이터셋 분석 후 결정"
   ]
  },
  {
   "cell_type": "code",
   "execution_count": 151,
   "metadata": {},
   "outputs": [],
   "source": [
    "# [1-1] 모듈 로딩\n",
    "from sklearn.neighbors import KNeighborsRegressor\t\t\t\t\t\t\t\t\t\t\t\t# 머신러닝 알고리즘 모듈\n",
    "from sklearn.metrics import root_mean_squared_error, mean_squared_error, mean_absolute_error\t# 성능평가 모듈\n",
    "from sklearn.model_selection import train_test_split\t\t\t\t\t\t\t\t\t\t\t# 데이터셋 분리 모듈\n",
    "import matplotlib.pyplot as plt\n",
    "import pandas as pd"
   ]
  },
  {
   "cell_type": "code",
   "execution_count": 152,
   "metadata": {},
   "outputs": [],
   "source": [
    "## [1-2] 데이터 준비\n",
    "# 농어 무게/길이 데이터\n",
    "\n",
    "# 앞 뒤 바로 삭제\n",
    "# 1, 2 행만 사용\n",
    "fish_df = pd.read_csv('../data/fish.csv', skiprows = 73, header = None, skipfooter = 31, engine = 'python', usecols=[1, 2])"
   ]
  },
  {
   "cell_type": "code",
   "execution_count": 153,
   "metadata": {},
   "outputs": [
    {
     "data": {
      "image/png": "[encoded data removed]",
      "text/plain": [
       "<Figure size 640x480 with 1 Axes>"
      ]
     },
     "metadata": {},
     "output_type": "display_data"
    }
   ],
   "source": [
    "## [1-3] 탐색적 분석 - 시각화\n",
    "length = fish_df[2]\n",
    "weight = fish_df[1]\n",
    "plt.plot(length, weight, 'o', color='#B0C4DE')\n",
    "plt.xlabel('length')\n",
    "plt.ylabel('weight')\n",
    "plt.show()"
   ]
  },
  {
   "cell_type": "code",
   "execution_count": 154,
   "metadata": {},
   "outputs": [],
   "source": [
    "## [1-4] 탐색적 분석 결과\n",
    "# - KNN 회귀 분석"
   ]
  },
  {
   "cell_type": "code",
   "execution_count": 155,
   "metadata": {},
   "outputs": [],
   "source": [
    "# [2-1] 데이터셋 준비 =>\n",
    "# (1) 피쳐와 타겟 분리\n",
    "\n",
    "# (2) 학습용, 검증용, 테스트용 분리\n",
    "# 학습용 : 규칙과 패턴 찾기 위해 사용되는 데이터셋\n",
    "# 검증용 : 모델 학습 진행이 제대로 되고 있는지 확인용 데이터셋\n",
    "# 테스트용 : 학습 완료 후 검사용 데이터셋\n",
    "\n",
    "# 피쳐와 타겟 분리\n",
    "featureDF = fish_df[fish_df.columns[-1:]] # 슬라이싱 = 2차원 (피쳐)\n",
    "targetSR = fish_df[fish_df.columns[0]]\t  # 인덱싱 = 1차원\t (타겟)"
   ]
  },
  {
   "cell_type": "code",
   "execution_count": 156,
   "metadata": {},
   "outputs": [],
   "source": [
    "# 전체 데이터셋에서 학습용 / 테스트용 분리 (70:30 or 80:20)\n",
    "# 학습용 : 테스트용\n",
    "x_train, x_test, y_train, y_test = train_test_split(featureDF, targetSR, random_state=10)"
   ]
  },
  {
   "cell_type": "code",
   "execution_count": 157,
   "metadata": {},
   "outputs": [
    {
     "name": "stdout",
     "output_type": "stream",
     "text": [
      "RangeIndex(start=0, stop=42, step=1) RangeIndex(start=0, stop=14, step=1)\n",
      "RangeIndex(start=0, stop=42, step=1) RangeIndex(start=0, stop=14, step=1)\n"
     ]
    }
   ],
   "source": [
    "# 인덱스 리셋\n",
    "x_train.reset_index(drop=True, inplace=True)\n",
    "y_train.reset_index(drop=True, inplace=True)\n",
    "\n",
    "x_test.reset_index(drop=True, inplace=True)\n",
    "y_test.reset_index(drop=True, inplace=True)\n",
    "\n",
    "print(x_train.index, x_test.index)\n",
    "print(y_train.index, y_test.index)"
   ]
  },
  {
   "cell_type": "code",
   "execution_count": 158,
   "metadata": {},
   "outputs": [],
   "source": [
    "# [2-2] KNN 알고리즘 객체 / 인스턴스 생성\n",
    "fish_model = KNeighborsRegressor()"
   ]
  },
  {
   "cell_type": "code",
   "execution_count": 159,
   "metadata": {},
   "outputs": [
    {
     "data": {
      "text/html": [
       "<style>#sk-container-id-7 {\n",
       "  /* Definition of color scheme common for light and dark mode */\n",
       "  --sklearn-color-text: #000;\n",
       "  --sklearn-color-text-muted: #666;\n",
       "  --sklearn-color-line: gray;\n",
       "  /* Definition of color scheme for unfitted estimators */\n",
       "  --sklearn-color-unfitted-level-0: #fff5e6;\n",
       "  --sklearn-color-unfitted-level-1: #f6e4d2;\n",
       "  --sklearn-color-unfitted-level-2: #ffe0b3;\n",
       "  --sklearn-color-unfitted-level-3: chocolate;\n",
       "  /* Definition of color scheme for fitted estimators */\n",
       "  --sklearn-color-fitted-level-0: #f0f8ff;\n",
       "  --sklearn-color-fitted-level-1: #d4ebff;\n",
       "  --sklearn-color-fitted-level-2: #b3dbfd;\n",
       "  --sklearn-color-fitted-level-3: cornflowerblue;\n",
       "\n",
       "  /* Specific color for light theme */\n",
       "  --sklearn-color-text-on-default-background: var(--sg-text-color, var(--theme-code-foreground, var(--jp-content-font-color1, black)));\n",
       "  --sklearn-color-background: var(--sg-background-color, var(--theme-background, var(--jp-layout-color0, white)));\n",
       "  --sklearn-color-border-box: var(--sg-text-color, var(--theme-code-foreground, var(--jp-content-font-color1, black)));\n",
       "  --sklearn-color-icon: #696969;\n",
       "\n",
       "  @media (prefers-color-scheme: dark) {\n",
       "    /* Redefinition of color scheme for dark theme */\n",
       "    --sklearn-color-text-on-default-background: var(--sg-text-color, var(--theme-code-foreground, var(--jp-content-font-color1, white)));\n",
       "    --sklearn-color-background: var(--sg-background-color, var(--theme-background, var(--jp-layout-color0, #111)));\n",
       "    --sklearn-color-border-box: var(--sg-text-color, var(--theme-code-foreground, var(--jp-content-font-color1, white)));\n",
       "    --sklearn-color-icon: #878787;\n",
       "  }\n",
       "}\n",
       "\n",
       "#sk-container-id-7 {\n",
       "  color: var(--sklearn-color-text);\n",
       "}\n",
       "\n",
       "#sk-container-id-7 pre {\n",
       "  padding: 0;\n",
       "}\n",
       "\n",
       "#sk-container-id-7 input.sk-hidden--visually {\n",
       "  border: 0;\n",
       "  clip: rect(1px 1px 1px 1px);\n",
       "  clip: rect(1px, 1px, 1px, 1px);\n",
       "  height: 1px;\n",
       "  margin: -1px;\n",
       "  overflow: hidden;\n",
       "  padding: 0;\n",
       "  position: absolute;\n",
       "  width: 1px;\n",
       "}\n",
       "\n",
       "#sk-container-id-7 div.sk-dashed-wrapped {\n",
       "  border: 1px dashed var(--sklearn-color-line);\n",
       "  margin: 0 0.4em 0.5em 0.4em;\n",
       "  box-sizing: border-box;\n",
       "  padding-bottom: 0.4em;\n",
       "  background-color: var(--sklearn-color-background);\n",
       "}\n",
       "\n",
       "#sk-container-id-7 div.sk-container {\n",
       "  /* jupyter's `normalize.less` sets `[hidden] { display: none; }`\n",
       "     but bootstrap.min.css set `[hidden] { display: none !important; }`\n",
       "     so we also need the `!important` here to be able to override the\n",
       "     default hidden behavior on the sphinx rendered scikit-learn.org.\n",
       "     See: https://github.com/scikit-learn/scikit-learn/issues/21755 */\n",
       "  display: inline-block !important;\n",
       "  position: relative;\n",
       "}\n",
       "\n",
       "#sk-container-id-7 div.sk-text-repr-fallback {\n",
       "  display: none;\n",
       "}\n",
       "\n",
       "div.sk-parallel-item,\n",
       "div.sk-serial,\n",
       "div.sk-item {\n",
       "  /* draw centered vertical line to link estimators */\n",
       "  background-image: linear-gradient(var(--sklearn-color-text-on-default-background), var(--sklearn-color-text-on-default-background));\n",
       "  background-size: 2px 100%;\n",
       "  background-repeat: no-repeat;\n",
       "  background-position: center center;\n",
       "}\n",
       "\n",
       "/* Parallel-specific style estimator block */\n",
       "\n",
       "#sk-container-id-7 div.sk-parallel-item::after {\n",
       "  content: \"\";\n",
       "  width: 100%;\n",
       "  border-bottom: 2px solid var(--sklearn-color-text-on-default-background);\n",
       "  flex-grow: 1;\n",
       "}\n",
       "\n",
       "#sk-container-id-7 div.sk-parallel {\n",
       "  display: flex;\n",
       "  align-items: stretch;\n",
       "  justify-content: center;\n",
       "  background-color: var(--sklearn-color-background);\n",
       "  position: relative;\n",
       "}\n",
       "\n",
       "#sk-container-id-7 div.sk-parallel-item {\n",
       "  display: flex;\n",
       "  flex-direction: column;\n",
       "}\n",
       "\n",
       "#sk-container-id-7 div.sk-parallel-item:first-child::after {\n",
       "  align-self: flex-end;\n",
       "  width: 50%;\n",
       "}\n",
       "\n",
       "#sk-container-id-7 div.sk-parallel-item:last-child::after {\n",
       "  align-self: flex-start;\n",
       "  width: 50%;\n",
       "}\n",
       "\n",
       "#sk-container-id-7 div.sk-parallel-item:only-child::after {\n",
       "  width: 0;\n",
       "}\n",
       "\n",
       "/* Serial-specific style estimator block */\n",
       "\n",
       "#sk-container-id-7 div.sk-serial {\n",
       "  display: flex;\n",
       "  flex-direction: column;\n",
       "  align-items: center;\n",
       "  background-color: var(--sklearn-color-background);\n",
       "  padding-right: 1em;\n",
       "  padding-left: 1em;\n",
       "}\n",
       "\n",
       "\n",
       "/* Toggleable style: style used for estimator/Pipeline/ColumnTransformer box that is\n",
       "clickable and can be expanded/collapsed.\n",
       "- Pipeline and ColumnTransformer use this feature and define the default style\n",
       "- Estimators will overwrite some part of the style using the `sk-estimator` class\n",
       "*/\n",
       "\n",
       "/* Pipeline and ColumnTransformer style (default) */\n",
       "\n",
       "#sk-container-id-7 div.sk-toggleable {\n",
       "  /* Default theme specific background. It is overwritten whether we have a\n",
       "  specific estimator or a Pipeline/ColumnTransformer */\n",
       "  background-color: var(--sklearn-color-background);\n",
       "}\n",
       "\n",
       "/* Toggleable label */\n",
       "#sk-container-id-7 label.sk-toggleable__label {\n",
       "  cursor: pointer;\n",
       "  display: flex;\n",
       "  width: 100%;\n",
       "  margin-bottom: 0;\n",
       "  padding: 0.5em;\n",
       "  box-sizing: border-box;\n",
       "  text-align: center;\n",
       "  align-items: start;\n",
       "  justify-content: space-between;\n",
       "  gap: 0.5em;\n",
       "}\n",
       "\n",
       "#sk-container-id-7 label.sk-toggleable__label .caption {\n",
       "  font-size: 0.6rem;\n",
       "  font-weight: lighter;\n",
       "  color: var(--sklearn-color-text-muted);\n",
       "}\n",
       "\n",
       "#sk-container-id-7 label.sk-toggleable__label-arrow:before {\n",
       "  /* Arrow on the left of the label */\n",
       "  content: \"▸\";\n",
       "  float: left;\n",
       "  margin-right: 0.25em;\n",
       "  color: var(--sklearn-color-icon);\n",
       "}\n",
       "\n",
       "#sk-container-id-7 label.sk-toggleable__label-arrow:hover:before {\n",
       "  color: var(--sklearn-color-text);\n",
       "}\n",
       "\n",
       "/* Toggleable content - dropdown */\n",
       "\n",
       "#sk-container-id-7 div.sk-toggleable__content {\n",
       "  max-height: 0;\n",
       "  max-width: 0;\n",
       "  overflow: hidden;\n",
       "  text-align: left;\n",
       "  /* unfitted */\n",
       "  background-color: var(--sklearn-color-unfitted-level-0);\n",
       "}\n",
       "\n",
       "#sk-container-id-7 div.sk-toggleable__content.fitted {\n",
       "  /* fitted */\n",
       "  background-color: var(--sklearn-color-fitted-level-0);\n",
       "}\n",
       "\n",
       "#sk-container-id-7 div.sk-toggleable__content pre {\n",
       "  margin: 0.2em;\n",
       "  border-radius: 0.25em;\n",
       "  color: var(--sklearn-color-text);\n",
       "  /* unfitted */\n",
       "  background-color: var(--sklearn-color-unfitted-level-0);\n",
       "}\n",
       "\n",
       "#sk-container-id-7 div.sk-toggleable__content.fitted pre {\n",
       "  /* unfitted */\n",
       "  background-color: var(--sklearn-color-fitted-level-0);\n",
       "}\n",
       "\n",
       "#sk-container-id-7 input.sk-toggleable__control:checked~div.sk-toggleable__content {\n",
       "  /* Expand drop-down */\n",
       "  max-height: 200px;\n",
       "  max-width: 100%;\n",
       "  overflow: auto;\n",
       "}\n",
       "\n",
       "#sk-container-id-7 input.sk-toggleable__control:checked~label.sk-toggleable__label-arrow:before {\n",
       "  content: \"▾\";\n",
       "}\n",
       "\n",
       "/* Pipeline/ColumnTransformer-specific style */\n",
       "\n",
       "#sk-container-id-7 div.sk-label input.sk-toggleable__control:checked~label.sk-toggleable__label {\n",
       "  color: var(--sklearn-color-text);\n",
       "  background-color: var(--sklearn-color-unfitted-level-2);\n",
       "}\n",
       "\n",
       "#sk-container-id-7 div.sk-label.fitted input.sk-toggleable__control:checked~label.sk-toggleable__label {\n",
       "  background-color: var(--sklearn-color-fitted-level-2);\n",
       "}\n",
       "\n",
       "/* Estimator-specific style */\n",
       "\n",
       "/* Colorize estimator box */\n",
       "#sk-container-id-7 div.sk-estimator input.sk-toggleable__control:checked~label.sk-toggleable__label {\n",
       "  /* unfitted */\n",
       "  background-color: var(--sklearn-color-unfitted-level-2);\n",
       "}\n",
       "\n",
       "#sk-container-id-7 div.sk-estimator.fitted input.sk-toggleable__control:checked~label.sk-toggleable__label {\n",
       "  /* fitted */\n",
       "  background-color: var(--sklearn-color-fitted-level-2);\n",
       "}\n",
       "\n",
       "#sk-container-id-7 div.sk-label label.sk-toggleable__label,\n",
       "#sk-container-id-7 div.sk-label label {\n",
       "  /* The background is the default theme color */\n",
       "  color: var(--sklearn-color-text-on-default-background);\n",
       "}\n",
       "\n",
       "/* On hover, darken the color of the background */\n",
       "#sk-container-id-7 div.sk-label:hover label.sk-toggleable__label {\n",
       "  color: var(--sklearn-color-text);\n",
       "  background-color: var(--sklearn-color-unfitted-level-2);\n",
       "}\n",
       "\n",
       "/* Label box, darken color on hover, fitted */\n",
       "#sk-container-id-7 div.sk-label.fitted:hover label.sk-toggleable__label.fitted {\n",
       "  color: var(--sklearn-color-text);\n",
       "  background-color: var(--sklearn-color-fitted-level-2);\n",
       "}\n",
       "\n",
       "/* Estimator label */\n",
       "\n",
       "#sk-container-id-7 div.sk-label label {\n",
       "  font-family: monospace;\n",
       "  font-weight: bold;\n",
       "  display: inline-block;\n",
       "  line-height: 1.2em;\n",
       "}\n",
       "\n",
       "#sk-container-id-7 div.sk-label-container {\n",
       "  text-align: center;\n",
       "}\n",
       "\n",
       "/* Estimator-specific */\n",
       "#sk-container-id-7 div.sk-estimator {\n",
       "  font-family: monospace;\n",
       "  border: 1px dotted var(--sklearn-color-border-box);\n",
       "  border-radius: 0.25em;\n",
       "  box-sizing: border-box;\n",
       "  margin-bottom: 0.5em;\n",
       "  /* unfitted */\n",
       "  background-color: var(--sklearn-color-unfitted-level-0);\n",
       "}\n",
       "\n",
       "#sk-container-id-7 div.sk-estimator.fitted {\n",
       "  /* fitted */\n",
       "  background-color: var(--sklearn-color-fitted-level-0);\n",
       "}\n",
       "\n",
       "/* on hover */\n",
       "#sk-container-id-7 div.sk-estimator:hover {\n",
       "  /* unfitted */\n",
       "  background-color: var(--sklearn-color-unfitted-level-2);\n",
       "}\n",
       "\n",
       "#sk-container-id-7 div.sk-estimator.fitted:hover {\n",
       "  /* fitted */\n",
       "  background-color: var(--sklearn-color-fitted-level-2);\n",
       "}\n",
       "\n",
       "/* Specification for estimator info (e.g. \"i\" and \"?\") */\n",
       "\n",
       "/* Common style for \"i\" and \"?\" */\n",
       "\n",
       ".sk-estimator-doc-link,\n",
       "a:link.sk-estimator-doc-link,\n",
       "a:visited.sk-estimator-doc-link {\n",
       "  float: right;\n",
       "  font-size: smaller;\n",
       "  line-height: 1em;\n",
       "  font-family: monospace;\n",
       "  background-color: var(--sklearn-color-background);\n",
       "  border-radius: 1em;\n",
       "  height: 1em;\n",
       "  width: 1em;\n",
       "  text-decoration: none !important;\n",
       "  margin-left: 0.5em;\n",
       "  text-align: center;\n",
       "  /* unfitted */\n",
       "  border: var(--sklearn-color-unfitted-level-1) 1pt solid;\n",
       "  color: var(--sklearn-color-unfitted-level-1);\n",
       "}\n",
       "\n",
       ".sk-estimator-doc-link.fitted,\n",
       "a:link.sk-estimator-doc-link.fitted,\n",
       "a:visited.sk-estimator-doc-link.fitted {\n",
       "  /* fitted */\n",
       "  border: var(--sklearn-color-fitted-level-1) 1pt solid;\n",
       "  color: var(--sklearn-color-fitted-level-1);\n",
       "}\n",
       "\n",
       "/* On hover */\n",
       "div.sk-estimator:hover .sk-estimator-doc-link:hover,\n",
       ".sk-estimator-doc-link:hover,\n",
       "div.sk-label-container:hover .sk-estimator-doc-link:hover,\n",
       ".sk-estimator-doc-link:hover {\n",
       "  /* unfitted */\n",
       "  background-color: var(--sklearn-color-unfitted-level-3);\n",
       "  color: var(--sklearn-color-background);\n",
       "  text-decoration: none;\n",
       "}\n",
       "\n",
       "div.sk-estimator.fitted:hover .sk-estimator-doc-link.fitted:hover,\n",
       ".sk-estimator-doc-link.fitted:hover,\n",
       "div.sk-label-container:hover .sk-estimator-doc-link.fitted:hover,\n",
       ".sk-estimator-doc-link.fitted:hover {\n",
       "  /* fitted */\n",
       "  background-color: var(--sklearn-color-fitted-level-3);\n",
       "  color: var(--sklearn-color-background);\n",
       "  text-decoration: none;\n",
       "}\n",
       "\n",
       "/* Span, style for the box shown on hovering the info icon */\n",
       ".sk-estimator-doc-link span {\n",
       "  display: none;\n",
       "  z-index: 9999;\n",
       "  position: relative;\n",
       "  font-weight: normal;\n",
       "  right: .2ex;\n",
       "  padding: .5ex;\n",
       "  margin: .5ex;\n",
       "  width: min-content;\n",
       "  min-width: 20ex;\n",
       "  max-width: 50ex;\n",
       "  color: var(--sklearn-color-text);\n",
       "  box-shadow: 2pt 2pt 4pt #999;\n",
       "  /* unfitted */\n",
       "  background: var(--sklearn-color-unfitted-level-0);\n",
       "  border: .5pt solid var(--sklearn-color-unfitted-level-3);\n",
       "}\n",
       "\n",
       ".sk-estimator-doc-link.fitted span {\n",
       "  /* fitted */\n",
       "  background: var(--sklearn-color-fitted-level-0);\n",
       "  border: var(--sklearn-color-fitted-level-3);\n",
       "}\n",
       "\n",
       ".sk-estimator-doc-link:hover span {\n",
       "  display: block;\n",
       "}\n",
       "\n",
       "/* \"?\"-specific style due to the `<a>` HTML tag */\n",
       "\n",
       "#sk-container-id-7 a.estimator_doc_link {\n",
       "  float: right;\n",
       "  font-size: 1rem;\n",
       "  line-height: 1em;\n",
       "  font-family: monospace;\n",
       "  background-color: var(--sklearn-color-background);\n",
       "  border-radius: 1rem;\n",
       "  height: 1rem;\n",
       "  width: 1rem;\n",
       "  text-decoration: none;\n",
       "  /* unfitted */\n",
       "  color: var(--sklearn-color-unfitted-level-1);\n",
       "  border: var(--sklearn-color-unfitted-level-1) 1pt solid;\n",
       "}\n",
       "\n",
       "#sk-container-id-7 a.estimator_doc_link.fitted {\n",
       "  /* fitted */\n",
       "  border: var(--sklearn-color-fitted-level-1) 1pt solid;\n",
       "  color: var(--sklearn-color-fitted-level-1);\n",
       "}\n",
       "\n",
       "/* On hover */\n",
       "#sk-container-id-7 a.estimator_doc_link:hover {\n",
       "  /* unfitted */\n",
       "  background-color: var(--sklearn-color-unfitted-level-3);\n",
       "  color: var(--sklearn-color-background);\n",
       "  text-decoration: none;\n",
       "}\n",
       "\n",
       "#sk-container-id-7 a.estimator_doc_link.fitted:hover {\n",
       "  /* fitted */\n",
       "  background-color: var(--sklearn-color-fitted-level-3);\n",
       "}\n",
       "</style><div id=\"sk-container-id-7\" class=\"sk-top-container\"><div class=\"sk-text-repr-fallback\"><pre>KNeighborsRegressor()</pre><b>In a Jupyter environment, please rerun this cell to show the HTML representation or trust the notebook. <br />On GitHub, the HTML representation is unable to render, please try loading this page with nbviewer.org.</b></div><div class=\"sk-container\" hidden><div class=\"sk-item\"><div class=\"sk-estimator fitted sk-toggleable\"><input class=\"sk-toggleable__control sk-hidden--visually\" id=\"sk-estimator-id-7\" type=\"checkbox\" checked><label for=\"sk-estimator-id-7\" class=\"sk-toggleable__label fitted sk-toggleable__label-arrow\"><div><div>KNeighborsRegressor</div></div><div><a class=\"sk-estimator-doc-link fitted\" rel=\"noreferrer\" target=\"_blank\" href=\"https://scikit-learn.org/1.6/modules/generated/sklearn.neighbors.KNeighborsRegressor.html\">?<span>Documentation for KNeighborsRegressor</span></a><span class=\"sk-estimator-doc-link fitted\">i<span>Fitted</span></span></div></label><div class=\"sk-toggleable__content fitted\"><pre>KNeighborsRegressor()</pre></div> </div></div></div></div>"
      ],
      "text/plain": [
       "KNeighborsRegressor()"
      ]
     },
     "execution_count": 159,
     "metadata": {},
     "output_type": "execute_result"
    }
   ],
   "source": [
    "# [2-3] 학습 진행\n",
    "fish_model.fit(x_train, y_train)"
   ]
  },
  {
   "cell_type": "code",
   "execution_count": 160,
   "metadata": {},
   "outputs": [
    {
     "name": "stdout",
     "output_type": "stream",
     "text": [
      "1\n",
      "42\n",
      "euclidean\n"
     ]
    }
   ],
   "source": [
    "# [2-4] KNN\n",
    "print(fish_model.n_features_in_)\n",
    "print(fish_model.n_samples_fit_)\t# 몇 개 학습?\n",
    "print(fish_model.effective_metric_) # 선 그리는 방법?"
   ]
  },
  {
   "cell_type": "markdown",
   "metadata": {},
   "source": [
    "학습 평가"
   ]
  },
  {
   "cell_type": "code",
   "execution_count": 161,
   "metadata": {},
   "outputs": [
    {
     "name": "stdout",
     "output_type": "stream",
     "text": [
      "성능 : 0.9784573278997548\n",
      "오차: 54.16730493396846\n"
     ]
    }
   ],
   "source": [
    "# [3-1] 훈련데이터 셋으로 예측 => predict(2D 피쳐 데이터)\n",
    "pre_weight = fish_model.predict(x_train)\n",
    "\n",
    "# [3-2] 모델 성능 평가 => score(2D 피쳐 데이터, 1D 타겟 데이터) : 모델 적합도\n",
    "score = fish_model.score(x_train, y_train)\n",
    "print(f'성능 : {score}')\n",
    "\n",
    "# [3-3] 모델 손실 평가 => rmse, mse, mae => 1D 타겟 데이터, 1D 예측값\n",
    "rmse = root_mean_squared_error(y_train, pre_weight)\n",
    "print(f'오차: {rmse}')"
   ]
  },
  {
   "cell_type": "code",
   "execution_count": 162,
   "metadata": {},
   "outputs": [
    {
     "name": "stdout",
     "output_type": "stream",
     "text": [
      "성능 : 0.9557072737458564\n",
      "오차 : 44.636380101565464\n"
     ]
    }
   ],
   "source": [
    "# [4-1] 테스트데이터 셋으로 예측 => predict(2D 피쳐 데이터)\n",
    "pre_weight = fish_model.predict(x_test)\n",
    "\n",
    "# [4-2] 모델 성능 평가 => score(2D 피쳐 데이터, 1D 타겟 데이터) : 모델 적합도\n",
    "score = fish_model.score(x_test, y_test)\n",
    "print(f'성능 : {score}')\n",
    "\n",
    "# [4-3] 모델 손실 평가 => rmse, mse, mae => 1D 타겟 데이터, 1D 예측값 rmse = root_squared_error(y_train, pre_v)\n",
    "rmse = root_mean_squared_error(y_test, pre_weight)\n",
    "print(f'오차 : {rmse}')"
   ]
  },
  {
   "cell_type": "code",
   "execution_count": 163,
   "metadata": {},
   "outputs": [],
   "source": [
    "# 5 최근접 이웃 알고리즘의 동작원리 확인\n",
    "# K개 만큼 가까이 있는 데이터를 추출\n",
    "# 회귀 => K의 값을 모두 더한 후 평균"
   ]
  },
  {
   "cell_type": "code",
   "execution_count": 164,
   "metadata": {},
   "outputs": [
    {
     "data": {
      "text/plain": [
       "(2    19.0\n",
       " Name: 0, dtype: float64,\n",
       " np.float64(80.0))"
      ]
     },
     "execution_count": 164,
     "metadata": {},
     "output_type": "execute_result"
    }
   ],
   "source": [
    "# 데이터 지정\n",
    "x_train.iloc[0], y_train.iloc[0]"
   ]
  },
  {
   "cell_type": "code",
   "execution_count": 165,
   "metadata": {},
   "outputs": [
    {
     "name": "stdout",
     "output_type": "stream",
     "text": [
      "distance = [[0.  0.3 0.6 1.  1. ]] / indices = [[ 0  1 32 41 18]]\n",
      "distanse=> [[0.  0.3 0.6 1.  1. ]]\n",
      "indices => [[ 0  1 32 41 18]], <class 'numpy.ndarray'>\n"
     ]
    }
   ],
   "source": [
    "# 이웃 찾기 : kneighbors(2D)\n",
    "# nd.array 반환\n",
    "distance, indices = fish_model.kneighbors([[19.0]])\n",
    "print(f'distance = {distance} / indices = {indices}')\n",
    "\n",
    "## - 19.0 데이터랑 거리가 가까운 K개 즉, 5개 데이터의 2D 인덱스\n",
    "print(f'distanse=> {distance}\\nindices => {indices}, {type(indices)}')\n",
    "\n",
    "# 차원 축소 후 저장\n",
    "# reshape에서 -1의 의미 : 맘대로? / 원소 수는 안 바뀐다\n",
    "# -> 이웃 데이터 인덱스 2D ==> 1D\n",
    "neighbor_idx = indices.reshape(-1)\n",
    "data_idx = indices"
   ]
  },
  {
   "cell_type": "code",
   "execution_count": 166,
   "metadata": {},
   "outputs": [
    {
     "data": {
      "text/plain": [
       "(       2\n",
       " 0   19.0\n",
       " 1   18.7\n",
       " 32  19.6\n",
       " 41  20.0\n",
       " 18  18.0,\n",
       " 0      80.0\n",
       " 1      78.0\n",
       " 32     85.0\n",
       " 41     85.0\n",
       " 18    100.0\n",
       " Name: 1, dtype: float64)"
      ]
     },
     "execution_count": 166,
     "metadata": {},
     "output_type": "execute_result"
    }
   ],
   "source": [
    "x_train.iloc[neighbor_idx], y_train[neighbor_idx]"
   ]
  },
  {
   "cell_type": "code",
   "execution_count": 167,
   "metadata": {},
   "outputs": [
    {
     "data": {
      "image/png": "[encoded data removed]",
      "text/plain": [
       "<Figure size 640x480 with 1 Axes>"
      ]
     },
     "metadata": {},
     "output_type": "display_data"
    }
   ],
   "source": [
    "length = fish_df[2]\n",
    "weight = fish_df[1]\n",
    "plt.plot(length, weight, 'o', color='#B0C4DE', label='DATA')\n",
    "plt.plot(x_train.iloc[0], y_train.iloc[0], 'o', color='red', label='DOT')\n",
    "plt.plot(x_train.iloc[neighbor_idx], y_train[neighbor_idx], '^', color='green', label='Neighbor')\n",
    "plt.xlabel('length')\n",
    "plt.ylabel('weight')\n",
    "plt.title('length / weight')\n",
    "plt.legend()\n",
    "plt.grid()\n",
    "plt.show()"
   ]
  },
  {
   "cell_type": "code",
   "execution_count": 168,
   "metadata": {},
   "outputs": [
    {
     "name": "stdout",
     "output_type": "stream",
     "text": [
      "길이 19.0 생선의 무게 예측은 85.6로 예측됩니다.\n"
     ]
    }
   ],
   "source": [
    "# 예측값 : K개 즉, 5개 이웃 데이터의 무게 weight를 평균 낸 것으로 예측값 반환\n",
    "pre_weight = y_train[neighbor_idx].mean()\n",
    "\n",
    "print(f'길이 19.0 생선의 무게 예측은 {pre_weight}로 예측됩니다.')"
   ]
  },
  {
   "cell_type": "markdown",
   "metadata": {},
   "source": [
    "[6] 최적의 K 찾기 <hr>\n",
    "- 최근접 이웃 갯수 => k\n",
    "- 기본값 : 5\n",
    "- 나의 데이터에 최적인 K 찾기\n",
    "\t* 1 ~ 전체데이터 수만큼 K값 변경한 KNR 인스턴스 생성\n",
    "\t* 학습, 예측, 성능평가, 비용계산 결과 비교\n",
    "\t* 성능평가 높고, 비용계산 낮은 K 결정"
   ]
  },
  {
   "cell_type": "code",
   "execution_count": 169,
   "metadata": {},
   "outputs": [],
   "source": [
    "DATANUMS = x_train.shape[0]\n",
    "\n",
    "# K 갯수에 따른 모델 성능과 비용함수값 지정\n",
    "HISTORYS = [[], []]\t\t\t\t\t# [ score_list, rmse_list ]\n",
    "HISTORYS = {'score':[], 'rmse':[]}\n",
    "\n",
    "# K 갯수에 따른 모델 성능 및 비용 계산\n",
    "for k in range(1, DATANUMS+1):\n",
    "\t# KNR 인스턴스 생성\n",
    "\tmodel = KNeighborsRegressor(n_neighbors=k)\n",
    "\t\n",
    "\t# KNR 학습 및 예측\n",
    "\tmodel.fit(x_train, y_train)\n",
    "\tpre_ = model.predict(x_train)\n",
    "\n",
    "\t# KNR 성능평가 및 비용계산\n",
    "\tscore = model.score(x_train, y_train)\t\t\t## 0.0 ~ 1.0\n",
    "\trmse = root_mean_squared_error(y_train, pre_)\t## 0.0 ~ \n",
    "\n",
    "\t# 저장\n",
    "\tHISTORYS['score'].append(score)\n",
    "\tHISTORYS['rmse'].append(rmse)"
   ]
  },
  {
   "cell_type": "code",
   "execution_count": 170,
   "metadata": {},
   "outputs": [
    {
     "name": "stdout",
     "output_type": "stream",
     "text": [
      "HISTORYS['score']: [0.9839739407771927, 0.9815504872688875, 0.9819388154902648, 0.9815355663609397, 0.9784573278997548, 0.9744829938405256, 0.9755266690443957, 0.9744696460932932, 0.9774430654930567, 0.9708999569730309, 0.9667629106605549, 0.9596155427769033, 0.9464087815683855, 0.9425253094414373, 0.9372540957641863, 0.9354874768657034, 0.9279569190067318, 0.9194785810548529, 0.9079268138386352, 0.896120731642103, 0.8787333545738312, 0.858535401167817, 0.8350488711397113, 0.8153783544646639, 0.791281881411492, 0.7599836619677534, 0.7251140268249456, 0.6882320118707485, 0.6497797664052141, 0.6112165371932946, 0.5730604885246238, 0.5296361386546657, 0.4923368316953145, 0.4435958284871272, 0.38749851331698826, 0.3405243565124938, 0.2913264188207596, 0.23141004568344303, 0.17534571521130493, 0.11286524666613473, 0.05455126182800751, 0.0]\n",
      "HISTORYS['rmse']: [46.71978269682015, 50.12794404131815, 49.59758805366185, 50.148210247938344, 54.16730493396846, 58.95251014486959, 57.734310570959316, 58.96792692854311, 55.42777964715668, 62.955584154151694, 67.28200651166796, 74.16424289333641, 85.43469198642576, 88.4760577305815, 92.44429901354556, 93.73665602454405, 99.05663740460172, 104.72325975234426, 111.98349778376763, 118.94655918380603, 128.5162735942621, 138.8069874089266, 149.8873869682393, 158.5728205968591, 168.60386195317062, 180.8039212446654, 193.4923201011889, 206.06451093389109, 218.40272822432178, 230.11309531212473, 241.14075529918276, 253.107151320855, 262.95126859985106, 275.28505284610196, 288.8291459396328, 299.7000549846779, 310.678045214308, 323.54507573905187, 335.13779071577335, 347.6019778854986, 358.84461695461647, 369.0518973715143]\n"
     ]
    }
   ],
   "source": [
    "print(\"HISTORYS['score']:\", HISTORYS['score'])\n",
    "print(\"HISTORYS['rmse']:\", HISTORYS['rmse'])"
   ]
  },
  {
   "cell_type": "code",
   "execution_count": 176,
   "metadata": {},
   "outputs": [
    {
     "name": "stdout",
     "output_type": "stream",
     "text": [
      "SCORE 0.0 0.9839739407771927\n",
      "RMSE 46.71978269682015 369.0518973715143\n"
     ]
    }
   ],
   "source": [
    "print(\"SCORE\", min(HISTORYS['score']), max(HISTORYS['score']))\n",
    "print(\"RMSE\", min(HISTORYS['rmse']), max(HISTORYS['rmse']))"
   ]
  },
  {
   "cell_type": "code",
   "execution_count": 177,
   "metadata": {},
   "outputs": [
    {
     "data": {
      "image/png": "[encoded data removed]",
      "text/plain": [
       "<Figure size 640x480 with 1 Axes>"
      ]
     },
     "metadata": {},
     "output_type": "display_data"
    }
   ],
   "source": [
    "## 시각화\n",
    "plt.plot(range(1, DATANUMS+1), HISTORYS['score'], 'bo', label='SCORE')\n",
    "plt.plot(range(1, DATANUMS+1), HISTORYS['rmse'], 'ro', label='RMSE')\n",
    "plt.xlabel('K')\n",
    "plt.ylabel('Score & RMSE')\n",
    "plt.show()"
   ]
  },
  {
   "cell_type": "code",
   "execution_count": 174,
   "metadata": {},
   "outputs": [
    {
     "data": {
      "image/png": "[encoded data removed]",
      "text/plain": [
       "<Figure size 640x480 with 2 Axes>"
      ]
     },
     "metadata": {},
     "output_type": "display_data"
    }
   ],
   "source": [
    "fig, axes = plt.subplots(1, 2)\n",
    "axes = axes.flatten()\n",
    "for ax, ylabel in zip(axes, [\"score\", \"rmse\"]):\n",
    "\tax.plot(range(1, DATANUMS+1), HISTORYS[ylabel], 'o')\n",
    "\tax.set_ylabel(ylabel)\n",
    "\tax.set_title(f'[K & {ylabel}]')\n",
    "\n",
    "plt.tight_layout() \n",
    "fig.subplots_adjust(wspace=0.3)  \n",
    "plt.show()"
   ]
  },
  {
   "cell_type": "code",
   "execution_count": 179,
   "metadata": {},
   "outputs": [
    {
     "data": {
      "image/png": "[encoded data removed]",
      "text/plain": [
       "<Figure size 640x480 with 2 Axes>"
      ]
     },
     "metadata": {},
     "output_type": "display_data"
    }
   ],
   "source": [
    "## 시각화 => 이중축\n",
    "fig, axes1 = plt.subplots()\n",
    "axes1.plot(range(1, DATANUMS+1), HISTORYS[\"score\"], 'o', label='SCORE')\n",
    "axes1.set_ylabel(\"SCORE\")\n",
    "\n",
    "axes2=axes1.twinx()\n",
    "axes2.plot(range(1, DATANUMS+1), HISTORYS[\"rmse\"], 'ro', label='RMSE')\n",
    "axes2.set_ylabel(\"RMSE\")\n",
    "\n",
    "plt.show()"
   ]
  },
  {
   "cell_type": "code",
   "execution_count": 175,
   "metadata": {},
   "outputs": [
    {
     "name": "stdout",
     "output_type": "stream",
     "text": [
      "score : 0.6702575099945594 rmse : 121.78960378162708\n"
     ]
    }
   ],
   "source": [
    "# KNR 인스턴스 생성\n",
    "model = KNeighborsRegressor(n_neighbors=4)\n",
    "\t\n",
    "# KNR 학습 및 예측\n",
    "model.fit(x_test, y_test)\n",
    "pre_ = model.predict(x_test)\n",
    "\n",
    "# KNR 성능평가 및 비용계산\n",
    "score = model.score(x_test, y_test)\t\t\t    ## 0.0 ~ 1.0\n",
    "rmse = root_mean_squared_error(y_test, pre_)\t## 0.0 ~ \n",
    "print(\"score :\", score, \"rmse :\", rmse)"
   ]
  },
  {
   "cell_type": "code",
   "execution_count": 1,
   "metadata": {},
   "outputs": [],
   "source": [
    "## ----------------------------------------------------------\n",
    "## 함수기능 : 평가결과 반환 함수\n",
    "## 함수이름 : checkModel\n",
    "## 매개변수 : 학습용데이터셋, 테스트용데이터셋\n",
    "## 함수결과 : 결과값DataFrame, 결과문자열\n",
    "## ----------------------------------------------------------\n",
    "def checkModel(trainDS, testDS, model):\n",
    "\tresult = []\t\t# 성능평가 결과 저장\n",
    "\n",
    "\tfor ds in [trainDS, testDS]:\n",
    "\t\t## - 모델 즉, 수식에 데이터 적용해서 예측값\n",
    "\t\tpre_weight = model.predict(x_test)\n",
    "\n",
    "\t\t## - 모델 적합도 : 높을수록 좋음(1.0)\n",
    "\t\tscore = model.score(x_test, y_test)\n",
    "\n",
    "\t\t## - 오차 계산 : 낮을수록 좋음(0.0)\n",
    "\t\trmse = root_mean_squared_error(y_test, pre_)\n",
    "\n",
    "\t\t## - 데이터셋별 성능결과 저장\n",
    "\t\tresult.append([score, rmse])\n",
    "\n",
    "\treturn pd.DataFrame(result)"
   ]
  },
  {
   "cell_type": "code",
   "execution_count": null,
   "metadata": {},
   "outputs": [],
   "source": []
  }
 ],
 "metadata": {
  "kernelspec": {
   "display_name": "ML_PY39",
   "language": "python",
   "name": "python3"
  },
  "language_info": {
   "codemirror_mode": {
    "name": "ipython",
    "version": 3
   },
   "file_extension": ".py",
   "mimetype": "text/x-python",
   "name": "python",
   "nbconvert_exporter": "python",
   "pygments_lexer": "ipython3",
   "version": "3.9.21"
  }
 },
 "nbformat": 4,
 "nbformat_minor": 2
}
