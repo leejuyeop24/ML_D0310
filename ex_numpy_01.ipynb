{
 "cells": [
  {
   "cell_type": "markdown",
   "metadata": {},
   "source": [
    "#### [ Numpy - ndarray 데이터 타입 ]\n",
    "- 자료형/데이터타입 : ndarray 타입  \n",
    "- C언어의 array를 python으로 구현  \n",
    "- [중요] 동일한 데이터 타입의 데이터를 연속된 메모리 공간에 저장함  \n",
    "- [효과] 적은 메모리 사용 및 빠른 처리"
   ]
  },
  {
   "cell_type": "markdown",
   "metadata": {},
   "source": [
    "[1] 모듈 로딩 <hr>"
   ]
  },
  {
   "cell_type": "code",
   "execution_count": 23,
   "metadata": {},
   "outputs": [],
   "source": [
    "import numpy as np\n",
    "import pandas as pd"
   ]
  },
  {
   "cell_type": "markdown",
   "metadata": {},
   "source": [
    "[2] ndarray 객체 생성하기 <hr>"
   ]
  },
  {
   "cell_type": "code",
   "execution_count": 24,
   "metadata": {},
   "outputs": [],
   "source": [
    "## ndarray 객체 생성\n",
    "n0 = np.array(10)\n",
    "n1 = np.array([10, 20])\n",
    "n11 = np.array([10, 20], dtype=np.uint8)\n",
    "n2 = np.array([[10, 20], [30, 40], [50, 60]])"
   ]
  },
  {
   "cell_type": "code",
   "execution_count": 25,
   "metadata": {},
   "outputs": [
    {
     "name": "stdout",
     "output_type": "stream",
     "text": [
      "차 원 : 1D\n",
      "형 태 : (2,)\n",
      "데이터 : <memory at 0x0000022EC8D1FAC0>\n",
      "원 소 : 8\n",
      "크 기 : 2개\n",
      "타 입 : int64\n",
      "방 향 : (8,)\n",
      "용 량 : 16\n"
     ]
    }
   ],
   "source": [
    "## - ndarray 객체 속성\n",
    "print(f'차 원 : {n1.ndim}D')\n",
    "print(f'형 태 : {n1.shape}')\n",
    "print(f'데이터 : {n1.data}')\n",
    "print(f'원 소 : {n1.itemsize}')\n",
    "print(f'크 기 : {n1.size}개')\n",
    "print(f'타 입 : {n1.dtype}')\n",
    "print(f'방 향 : {n1.strides}')\n",
    "print(f'용 량 : {n1.nbytes}')"
   ]
  },
  {
   "cell_type": "code",
   "execution_count": 26,
   "metadata": {},
   "outputs": [],
   "source": [
    "## - ndarray 객체 속성 출력 함수 -----------------------\n",
    "def printInfo(obj):\n",
    "\tprint(f'차 원 : {obj.ndim}D')\n",
    "\tprint(f'형 태 : {obj.shape}')\n",
    "\tprint(f'데이터 : {obj.data}')\n",
    "\tprint(f'원 소 : {obj.itemsize}')\n",
    "\tprint(f'크 기 : {obj.size}개')\n",
    "\tprint(f'타 입 : {obj.dtype}')\n",
    "\tprint(f'방 향 : {obj.strides}')\n",
    "\tprint(f'용 량 : {obj.nbytes}')"
   ]
  },
  {
   "cell_type": "code",
   "execution_count": 27,
   "metadata": {},
   "outputs": [
    {
     "name": "stdout",
     "output_type": "stream",
     "text": [
      "차 원 : 0D\n",
      "형 태 : ()\n",
      "데이터 : <memory at 0x0000022EC9265180>\n",
      "원 소 : 8\n",
      "크 기 : 1개\n",
      "타 입 : int64\n",
      "방 향 : ()\n",
      "용 량 : 8\n",
      "차 원 : 1D\n",
      "형 태 : (2,)\n",
      "데이터 : <memory at 0x0000022EC8D1FD00>\n",
      "원 소 : 8\n",
      "크 기 : 2개\n",
      "타 입 : int64\n",
      "방 향 : (8,)\n",
      "용 량 : 16\n",
      "차 원 : 1D\n",
      "형 태 : (2,)\n",
      "데이터 : <memory at 0x0000022EC8D1FAC0>\n",
      "원 소 : 1\n",
      "크 기 : 2개\n",
      "타 입 : uint8\n",
      "방 향 : (1,)\n",
      "용 량 : 2\n"
     ]
    }
   ],
   "source": [
    "## - ndarray 객체 속성 확인 \n",
    "printInfo(n0)\n",
    "printInfo(n1)\n",
    "printInfo(n11)"
   ]
  },
  {
   "cell_type": "code",
   "execution_count": 28,
   "metadata": {},
   "outputs": [
    {
     "name": "stdout",
     "output_type": "stream",
     "text": [
      "차 원 : 2D\n",
      "형 태 : (3, 2)\n",
      "데이터 : <memory at 0x0000022EC9211C70>\n",
      "원 소 : 8\n",
      "크 기 : 6개\n",
      "타 입 : int64\n",
      "방 향 : (16, 8)\n",
      "용 량 : 48\n"
     ]
    }
   ],
   "source": [
    "## - 2D ndarray\n",
    "printInfo(n2)"
   ]
  },
  {
   "cell_type": "code",
   "execution_count": null,
   "metadata": {},
   "outputs": [],
   "source": []
  }
 ],
 "metadata": {
  "kernelspec": {
   "display_name": "ML_PY39",
   "language": "python",
   "name": "python3"
  },
  "language_info": {
   "codemirror_mode": {
    "name": "ipython",
    "version": 3
   },
   "file_extension": ".py",
   "mimetype": "text/x-python",
   "name": "python",
   "nbconvert_exporter": "python",
   "pygments_lexer": "ipython3",
   "version": "3.9.21"
  }
 },
 "nbformat": 4,
 "nbformat_minor": 2
}
